{
 "cells": [
  {
   "cell_type": "markdown",
   "metadata": {},
   "source": [
    "Author: **Paul F**"
   ]
  },
  {
   "cell_type": "markdown",
   "metadata": {},
   "source": [
    "# 4. Data visualisation and peak fitting"
   ]
  },
  {
   "cell_type": "markdown",
   "metadata": {},
   "source": [
    "### Goals\n",
    "\n",
    "- create your first own Git repository\n",
    "- reading iSCAMS data from a file and rescale the values\n",
    "- plot a histogram using the package *matplotlib* and save the plot to a file\n",
    "- fit a gaussian function to the histogram with the package *scipy* and determine the average protein mass"
   ]
  },
  {
   "cell_type": "markdown",
   "metadata": {},
   "source": [
    "### Introduction\n",
    "\n",
    "In this folder you will find the file ``hsp165.txt`` that contains the interferometric contrasts of single proteins (HSP 16.5) measured by iSCAMS (stands for interferometric scattering mass spectrometry). The interferometric contrast is proportional to the particle mass (for this measurement an interferometric contrast of $\\approx2.2\\times10^{-5}$ corresponds to a protein mass of 1 kDa."
   ]
  },
  {
   "cell_type": "code",
   "execution_count": 39,
   "metadata": {},
   "outputs": [],
   "source": []
  },
  {
   "cell_type": "markdown",
   "metadata": {},
   "source": [
    "### *TASK 1*\n",
    "\n",
    "Load the interferometric contrasts from the file into a *numpy-array* of floating point values. Determine the number of values in the array and confirm that the number matches the number of lines in the file ``hsp164.txt`` (check this number for example by opening the file in a text editor)."
   ]
  },
  {
   "cell_type": "code",
   "execution_count": 3,
   "metadata": {},
   "outputs": [
    {
     "data": {
      "text/plain": [
       "array([0.00979555, 0.00748597, 0.00842761, ..., 0.00144174, 0.00839219,\n",
       "       0.00839848])"
      ]
     },
     "execution_count": 3,
     "metadata": {},
     "output_type": "execute_result"
    }
   ],
   "source": [
    "# Before we start we need to import the maths library\n",
    "import numpy\n",
    "# a library with tools for scientific data analysis\n",
    "import scipy\n",
    "\n",
    "#entire_pdb = open('1PRE.pdb', 'r')\n",
    "#pdb_in_lines = entire_pdb.readlines() # List of Strings (each line one element)\n",
    "def load_Contrast():\n",
    "    infcontr = [] # will be used as list of floats\n",
    "    with open('hsp165.txt', 'r') as file:\n",
    "        for line in file:\n",
    "            contr = float(line)\n",
    "            infcontr.append(contr) \n",
    "    infcontr = numpy.array(infcontr)\n",
    "    #print(len(infcontr))\n",
    "    return infcontr\n",
    "\n",
    "load_Contrast()"
   ]
  },
  {
   "cell_type": "markdown",
   "metadata": {},
   "source": [
    "### *TASK 2*\n",
    "\n",
    "Convert the measured interferometric contrasts into the unit kDa and and use the *numpy-array* methods to determine the \n",
    "\n",
    "- minimum\n",
    "- maximum\n",
    "- mean\n",
    "- standard deviation\n",
    "\n",
    "of the converted values and print your results to the screen."
   ]
  },
  {
   "cell_type": "code",
   "execution_count": 11,
   "metadata": {
    "collapsed": true
   },
   "outputs": [
    {
     "name": "stdout",
     "output_type": "stream",
     "text": [
      "Minimum mass is 51.2, maximum mass is 2350.7934545454546, mean is 398.25678823399727 and Std is 89.45939615229861. Everything in kDa\n"
     ]
    }
   ],
   "source": [
    "def give_Info():\n",
    "    contrasts = load_Contrast()\n",
    "    masses = contrasts/(2.2e-5)      # masses of proteins in kDa\n",
    "    mini = masses.min()\n",
    "    maxi = masses.max()\n",
    "    mean = masses.mean()\n",
    "    stand_dev = masses.std()\n",
    "    print(f'Minimum mass is {mini:.1f}, maximum mass is {maxi}, mean is {mean} and Std is {stand_dev}. Everything in kDa')\n",
    "    return None\n",
    "give_Info()\n",
    "\n",
    "# format with :numberofdecimals.f\n"
   ]
  },
  {
   "cell_type": "markdown",
   "metadata": {},
   "source": [
    "### *TASK 3*\n",
    "\n",
    "a) Use the function [*matplotlib.pyplot.histogram*](https://matplotlib.org/api/_as_gen/matplotlib.pyplot.hist.html) function to calculate and display the histogram of the measured values.\n",
    "\n",
    "b) Adjust the parameters ``bins`` and ``range`` to improve your plot.\n",
    "\n",
    "\n",
    "c) Annotate your axes by using the functions [*matplotlib.pyplot.xlabel*](https://matplotlib.org/api/_as_gen/matplotlib.pyplot.xlabel.html) and [*matplotlib.pyplot.ylabel*](https://matplotlib.org/api/_as_gen/matplotlib.pyplot.ylabel.html).\n",
    "\n",
    "d) Save the histogram to a PNG file ``hist_hsp.png`` at 400 dpi resolution (search on the web for the suitable *matplotlib* function)."
   ]
  },
  {
   "cell_type": "code",
   "execution_count": 40,
   "metadata": {},
   "outputs": [],
   "source": [
    "# Import of the matplotlib package for plotting\n",
    "import matplotlib\n",
    "# and magic to activate inline-plotting between the notebook cells\n",
    "%matplotlib inline"
   ]
  },
  {
   "cell_type": "code",
   "execution_count": 12,
   "metadata": {},
   "outputs": [
    {
     "data": {
      "image/png": "[encoded data removed]",
      "text/plain": [
       "<Figure size 432x288 with 1 Axes>"
      ]
     },
     "metadata": {
      "needs_background": "light"
     },
     "output_type": "display_data"
    }
   ],
   "source": [
    "# TYPE YOUR SOLUTION HERE\n",
    "import numpy as np\n",
    "from matplotlib import pyplot as plt\n",
    "import datetime  # to save the historgram with a unique filename\n",
    "\n",
    "# and magic to activate inline-plotting between the notebook cells\n",
    "%matplotlib inline\n",
    "\n",
    "\n",
    "def cal_masses():\n",
    "    contrasts = load_Contrast()\n",
    "    masses = contrasts/(2.2e-5)\n",
    "    return masses\n",
    "\n",
    "#   explanation see matplotlib historgram documentation\n",
    "#   Area of histogram normalized to 1\n",
    "#   draws hisogram of beam angle    \n",
    "# ----------Proposition:\n",
    "#   also calculate mean and std dev and write them on the historgram\n",
    "def drawHistorg():\n",
    "    plt.hist(cal_masses(), bins = 50, range = (0,900), density = True, rwidth = 0.9)\n",
    "    plt.xlabel('Mass in kDa')\n",
    "    plt.ylabel('Probability')\n",
    "    #   append filename with date and time\n",
    "    now = datetime.datetime.now()\n",
    "    now = now.strftime(\"%Y%m%d_%Hh%M\")\n",
    "    filename = now + '_hist_masses.svg'\n",
    "    plt.savefig(filename, dpi = 400, format = 'svg')\n",
    "    plt.show()\n",
    "    return\n",
    "\n",
    "cal_masses()\n",
    "drawHistorg()\n"
   ]
  },
  {
   "cell_type": "markdown",
   "metadata": {},
   "source": [
    "### *TASK 4*\n",
    "\n",
    "a) The function [*matplotlib.pyplot.histogram*](https://matplotlib.org/api/_as_gen/matplotlib.pyplot.hist.html) returns three objects. We are interested in the first two:\n",
    "\n",
    "  - *numpy-array* of histogram values (number of particles that had a mass within the limits of the respective bin)\n",
    "  - *numpy-array* of the limits of the histogram bins\n",
    "\n",
    " Save the two arrays as ``hist`` and ``m_edges`` and check their lengths. Why are they not the same?\n",
    " Save the third array into the variable ``_``.\n",
    " \n",
    "b) Calculate the *numpy-array* ``m_centers`` with values between the values of ``m_edges`` and a length ``len(m_edges)-1``.\n",
    "\n",
    "c) Make a line plot of ``m_centers`` vs. ``hist`` by using the function [*matplotlib.pyplot.plot*](https://matplotlib.org/api/_as_gen/matplotlib.pyplot.plot.html). \n",
    "\n",
    "d) Label the axes.\n",
    "\n",
    "e) Use the same function as in *TASK 3* to save the plot to the PNG file ``hist_hsp_line.png`` at 400 dpi resolution."
   ]
  },
  {
   "cell_type": "code",
   "execution_count": 26,
   "metadata": {},
   "outputs": [
    {
     "name": "stdout",
     "output_type": "stream",
     "text": [
      "hist length is 50, m_edges length is 51\n",
      "finished\n"
     ]
    },
    {
     "data": {
      "image/png": "[encoded data removed]",
      "text/plain": [
       "<Figure size 432x288 with 1 Axes>"
      ]
     },
     "metadata": {
      "needs_background": "light"
     },
     "output_type": "display_data"
    }
   ],
   "source": [
    "# TYPE YOUR SOLUTION HERE\n",
    "import numpy\n",
    "import matplotlib\n",
    "import datetime  # to save the historgram with a unique filename\n",
    "\n",
    "# and magic to activate inline-plotting between the notebook cells\n",
    "%matplotlib inline\n",
    "\n",
    "\n",
    "hist, m_edges, _ = matplotlib.pyplot.hist(cal_masses(), bins = 50, range = (200,600))\n",
    "print(f'hist length is {len(hist)}, m_edges length is {len(m_edges)}')\n",
    "# They m_edges is 1 longer than hist as you need one boundary more than bins\n",
    "\n",
    "\n",
    "\n",
    "def calc_m_centers(m_edges = m_edges):\n",
    "    m_centers = []\n",
    "    #print(f'm_edges are {m_edges}')\n",
    "    line = 1                                 # index for iterating\n",
    "    while(line < len(m_edges)):\n",
    "        m_center_element = m_edges[line] - ((m_edges[line] - m_edges[line-1])/2)\n",
    "        m_centers.append(m_center_element)\n",
    "        line = line + 1\n",
    "    m_centers = numpy.array(m_centers)\n",
    "    return m_centers\n",
    "\n",
    "m_centers2 = calc_m_centers(m_edges)\n",
    "matplotlib.pyplot.plot(m_centers2, hist)\n",
    "print('finished')\n",
    "\n",
    "# lese mal https://matplotlib.org/tutorials/introductory/usage.html\n"
   ]
  },
  {
   "cell_type": "markdown",
   "metadata": {},
   "source": [
    "### *TASK 5*\n",
    "\n",
    "In taks 5 we want to determine the mass of HSP 16.5 by fitting a Gaussian function to the histogram.\n",
    "\n",
    "The Gaussian function is defined as \n",
    "\n",
    "$$g(x) = A_0 \\exp\\left( -\\frac{\\left(m-m_0\\right)^2}{2 \\sigma^2} \\right)$$\n",
    "\n",
    "a) Write a corresponding Python function ``gauss(m, A0, m0, sigma)`` that returns $g(x)$.\n",
    "\n",
    "b) Assign the default values $A_0=1$, $m_0=0$, $\\sigma=1$.\n",
    "\n",
    "c) Confirm that the function returns the value $e^{-1/2}\\approx0.61$ for $m=1$, $A_0=1$, $m_0=0$, and $\\sigma=1$. "
   ]
  },
  {
   "cell_type": "code",
   "execution_count": 14,
   "metadata": {},
   "outputs": [],
   "source": [
    "# TYPE YOUR SOLUTION HERE\n",
    "import numpy\n",
    "\n",
    "def gauss(m, A0 = 1, m0 = 0, sigma = 1):\n",
    "    g_x = A0 * numpy.exp(-(m-m0)**2/(2 * sigma**2 ))\n",
    "    return g_x\n",
    "\n",
    "gauss(1, 1, 0, 1)\n",
    "assert numpy.isclose(gauss(1,1,0,1), 0.60, atol = 0.051) # asserts checks if the expression after it is true, numpy.isclose compares\n",
    "# two values"
   ]
  },
  {
   "cell_type": "markdown",
   "metadata": {},
   "source": [
    "### *TASK 6*\n",
    "\n",
    "The function [scipy.optimize.least_squares](https://docs.scipy.org/doc/scipy/reference/generated/scipy.optimize.least_squares.html) can solve nonlinear least-squares problems. We will use this function to identify the Gaussian model (with parameters $A_0$, $m_0$, and $\\sigma$) that best matches the measured data. The fitted values $m_0$ and $\\sigma$ provide estimates for the mass of HSP 16.5 and the spread of the measured values, respectively.\n",
    "\n",
    "a) Define a function ``err(x)`` that calculates the fit residual (difference of fit and measured data). For using this function later to call [scipy.optimize.least_squares](https://docs.scipy.org/doc/scipy/reference/generated/scipy.optimize.least_squares.html) the argument of ``err`` has to be a tuple of all model parameters, here ``x=(A0, x0, sigma)``.\n",
    "\n",
    "b) For convergence to the correct solution a guess for the model parameters has to be passed to [scipy.optimize.least_squares](https://docs.scipy.org/doc/scipy/reference/generated/scipy.optimize.least_squares.html). Define a starting guess ``x0`` as a tuple of three guessed values for $A_0$, $m_0$, and $\\sigma$. Use the plot that you generated in *TASK 4* to guess the parameters.\n",
    "\n",
    "c) Call ``(A0_fit, x0_fit, sigma_fit) = scipy.optimize.least_squares(err, x0).x0`` and both data and result with consecutive calls of [*matplotlib.pyplot.plot*](https://matplotlib.org/api/_as_gen/matplotlib.pyplot.plot.html).\n",
    "\n",
    "d) Print the fitted parameters $m_0$ and $\\sigma$ to the screen and compare to the values obtained in *TASK 2*.\n",
    "\n",
    "**Advanced**: Make a legend by using the ``label`` parameter of [*matplotlib.pyplot.plot*](https://matplotlib.org/api/_as_gen/matplotlib.pyplot.plot.html) and by calling at the end of the cell [*matplotlib.pyplot.legend*](https://matplotlib.org/api/_as_gen/matplotlib.pyplot.legend.html)."
   ]
  },
  {
   "cell_type": "code",
   "execution_count": 29,
   "metadata": {},
   "outputs": [
    {
     "name": "stdout",
     "output_type": "stream",
     "text": [
      "Center mass: 391.2 kDa\n",
      "Peak standard deviation: 24.7 kDa\n"
     ]
    },
    {
     "data": {
      "image/png": "[encoded data removed]",
      "text/plain": [
       "<Figure size 432x288 with 1 Axes>"
      ]
     },
     "metadata": {
      "needs_background": "light"
     },
     "output_type": "display_data"
    }
   ],
   "source": [
    "# TYPE YOUR SOLUTION HERE\n",
    "import scipy\n",
    "import scipy.optimize        # package is by default not imported\n",
    "\n",
    "def err(x = (1000, 300, 200)):             # x has to be a tuple x=(A0, x0, sigma).    \n",
    "    # hist ist in task 4 definiert (Histogrammwerte), gauss in task 5\n",
    "    return (hist-gauss(calc_m_centers(), A0=x[0], m0=x[1], sigma=x[2]))\n",
    "\n",
    "# b) Make a guess\n",
    "A0_guess = 800\n",
    "m0_guess = 400\n",
    "sigma_guess = 100\n",
    "x0 = (A0_guess, m0_guess, sigma_guess)\n",
    "\n",
    "# c) least-squared optimisation: searches only local minima!!\n",
    "# .x tells it to just return the solution array called x (similar to string.float()   )\n",
    "(A0_fit, m0_fit, sigma_fit) = scipy.optimize.least_squares(err, x0).x\n",
    "\n",
    "# d) plot result and data\n",
    "matplotlib.pyplot.plot(calc_m_centers(), hist, label = 'Data')\n",
    "hist_fit = gauss(calc_m_centers(),A0_fit, m0_fit, sigma_fit)\n",
    "matplotlib.pyplot.plot(calc_m_centers(), hist_fit, label = 'Fit')\n",
    "matplotlib.pyplot.legend()\n",
    "\n",
    "# e) Print fitting values\n",
    "print(f\"Center mass: {m0_fit:.1f} kDa\")\n",
    "print(f\"Peak standard deviation: {sigma_fit:.1f} kDa\")\n",
    "\n"
   ]
  },
  {
   "cell_type": "code",
   "execution_count": null,
   "metadata": {},
   "outputs": [],
   "source": [
    "import matplotlib\n",
    "matplotlib.pyplot.plot()\n",
    "matplotlib.tight_layout()                # Avoids that labels e.g. get cut off when exporting the figure"
   ]
  }
 ],
 "metadata": {
  "kernelspec": {
   "display_name": "Python 3",
   "language": "python",
   "name": "python3"
  },
  "language_info": {
   "codemirror_mode": {
    "name": "ipython",
    "version": 3
   },
   "file_extension": ".py",
   "mimetype": "text/x-python",
   "name": "python",
   "nbconvert_exporter": "python",
   "pygments_lexer": "ipython3",
   "version": "3.7.0"
  }
 },
 "nbformat": 4,
 "nbformat_minor": 2
}
